{
  "nbformat": 4,
  "nbformat_minor": 0,
  "metadata": {
    "colab": {
      "name": "Task3Recruitedu.ipynb",
      "provenance": [],
      "collapsed_sections": []
    },
    "kernelspec": {
      "name": "python3",
      "display_name": "Python 3"
    }
  },
  "cells": [
    {
      "cell_type": "markdown",
      "metadata": {
        "id": "y72zEAKG1O2y"
      },
      "source": [
        "**Name :Suraj Sanjeev Pawar**"
      ]
    },
    {
      "cell_type": "markdown",
      "metadata": {
        "id": "sak0D_yJ1UP6"
      },
      "source": [
        "**Registration ID :GO-WTP-1839**"
      ]
    },
    {
      "cell_type": "markdown",
      "metadata": {
        "id": "VDmi56Yk1Yn9"
      },
      "source": [
        "**Task-3 : Prediction using Supervised Machine Learning using Simple Linear Regression with missing values**"
      ]
    },
    {
      "cell_type": "markdown",
      "metadata": {
        "id": "AolwCN5J1PQ3"
      },
      "source": [
        "***In this task we have to Predict Salary of the Student depends on Experience of Student,Written Test and Interview round marks based of three feature.This problem can be solved by using Regression libraries and task is given by Goeduhub Technologies as Online Winter training in Machine Learning using Python.***"
      ]
    },
    {
      "cell_type": "markdown",
      "metadata": {
        "id": "lD5yJJY52uUm"
      },
      "source": [
        "***Importing  required libraries***"
      ]
    },
    {
      "cell_type": "code",
      "metadata": {
        "id": "mGAFqIJaBXGz"
      },
      "source": [
        "import numpy as np\r\n",
        "import pandas as pd\r\n",
        "import matplotlib.pyplot as plt"
      ],
      "execution_count": null,
      "outputs": []
    },
    {
      "cell_type": "markdown",
      "metadata": {
        "id": "G1b2gO-322Dh"
      },
      "source": [
        "***Importing the Dataset***"
      ]
    },
    {
      "cell_type": "code",
      "metadata": {
        "colab": {
          "base_uri": "https://localhost:8080/",
          "height": 297
        },
        "id": "4QJi_0apB1DG",
        "outputId": "19545fe9-9c91-48fd-ff30-bf8fb4bd0079"
      },
      "source": [
        "df=pd.read_csv(\"recruit.csv\")\r\n",
        "df"
      ],
      "execution_count": null,
      "outputs": [
        {
          "output_type": "execute_result",
          "data": {
            "text/html": [
              "<div>\n",
              "<style scoped>\n",
              "    .dataframe tbody tr th:only-of-type {\n",
              "        vertical-align: middle;\n",
              "    }\n",
              "\n",
              "    .dataframe tbody tr th {\n",
              "        vertical-align: top;\n",
              "    }\n",
              "\n",
              "    .dataframe thead th {\n",
              "        text-align: right;\n",
              "    }\n",
              "</style>\n",
              "<table border=\"1\" class=\"dataframe\">\n",
              "  <thead>\n",
              "    <tr style=\"text-align: right;\">\n",
              "      <th></th>\n",
              "      <th>Experience</th>\n",
              "      <th>Test</th>\n",
              "      <th>Interview</th>\n",
              "      <th>Salary</th>\n",
              "    </tr>\n",
              "  </thead>\n",
              "  <tbody>\n",
              "    <tr>\n",
              "      <th>0</th>\n",
              "      <td>NaN</td>\n",
              "      <td>8.0</td>\n",
              "      <td>9</td>\n",
              "      <td>50000</td>\n",
              "    </tr>\n",
              "    <tr>\n",
              "      <th>1</th>\n",
              "      <td>two</td>\n",
              "      <td>10.0</td>\n",
              "      <td>10</td>\n",
              "      <td>65000</td>\n",
              "    </tr>\n",
              "    <tr>\n",
              "      <th>2</th>\n",
              "      <td>NaN</td>\n",
              "      <td>8.0</td>\n",
              "      <td>6</td>\n",
              "      <td>45000</td>\n",
              "    </tr>\n",
              "    <tr>\n",
              "      <th>3</th>\n",
              "      <td>five</td>\n",
              "      <td>6.0</td>\n",
              "      <td>7</td>\n",
              "      <td>60000</td>\n",
              "    </tr>\n",
              "    <tr>\n",
              "      <th>4</th>\n",
              "      <td>seven</td>\n",
              "      <td>9.0</td>\n",
              "      <td>6</td>\n",
              "      <td>70000</td>\n",
              "    </tr>\n",
              "    <tr>\n",
              "      <th>5</th>\n",
              "      <td>eleven</td>\n",
              "      <td>7.0</td>\n",
              "      <td>8</td>\n",
              "      <td>80000</td>\n",
              "    </tr>\n",
              "    <tr>\n",
              "      <th>6</th>\n",
              "      <td>ten</td>\n",
              "      <td>NaN</td>\n",
              "      <td>7</td>\n",
              "      <td>72000</td>\n",
              "    </tr>\n",
              "    <tr>\n",
              "      <th>7</th>\n",
              "      <td>three</td>\n",
              "      <td>7.0</td>\n",
              "      <td>10</td>\n",
              "      <td>62000</td>\n",
              "    </tr>\n",
              "  </tbody>\n",
              "</table>\n",
              "</div>"
            ],
            "text/plain": [
              "  Experience  Test  Interview  Salary\n",
              "0        NaN   8.0          9   50000\n",
              "1        two  10.0         10   65000\n",
              "2        NaN   8.0          6   45000\n",
              "3       five   6.0          7   60000\n",
              "4      seven   9.0          6   70000\n",
              "5     eleven   7.0          8   80000\n",
              "6        ten   NaN          7   72000\n",
              "7      three   7.0         10   62000"
            ]
          },
          "metadata": {
            "tags": []
          },
          "execution_count": 6
        }
      ]
    },
    {
      "cell_type": "markdown",
      "metadata": {
        "id": "XZqXvVS7f9rD"
      },
      "source": [
        "***NaN replace with zero using fillna***"
      ]
    },
    {
      "cell_type": "code",
      "metadata": {
        "colab": {
          "base_uri": "https://localhost:8080/"
        },
        "id": "TKUHjC8yCc5J",
        "outputId": "40006917-fcce-42d7-c69c-5810a66d00cc"
      },
      "source": [
        "df['Experience']=df['Experience'].fillna(\"zero\")\r\n",
        "print(df)"
      ],
      "execution_count": null,
      "outputs": [
        {
          "output_type": "stream",
          "text": [
            "  Experience  Test  Interview  Salary\n",
            "0       zero   8.0          9   50000\n",
            "1        two  10.0         10   65000\n",
            "2       zero   8.0          6   45000\n",
            "3       five   6.0          7   60000\n",
            "4      seven   9.0          6   70000\n",
            "5     eleven   7.0          8   80000\n",
            "6        ten   NaN          7   72000\n",
            "7      three   7.0         10   62000\n"
          ],
          "name": "stdout"
        }
      ]
    },
    {
      "cell_type": "markdown",
      "metadata": {
        "id": "Gz7hnbZfgMEE"
      },
      "source": [
        "***NaN replace with 0 using fillna***"
      ]
    },
    {
      "cell_type": "code",
      "metadata": {
        "colab": {
          "base_uri": "https://localhost:8080/"
        },
        "id": "wfcYCiHfC5Dn",
        "outputId": "ce082792-a507-45c8-ead7-3c25ee79a7b0"
      },
      "source": [
        "df['Test']=df['Test'].fillna(0)\r\n",
        "print(df)"
      ],
      "execution_count": null,
      "outputs": [
        {
          "output_type": "stream",
          "text": [
            "  Experience  Test  Interview  Salary\n",
            "0       zero   8.0          9   50000\n",
            "1        two  10.0         10   65000\n",
            "2       zero   8.0          6   45000\n",
            "3       five   6.0          7   60000\n",
            "4      seven   9.0          6   70000\n",
            "5     eleven   7.0          8   80000\n",
            "6        ten   0.0          7   72000\n",
            "7      three   7.0         10   62000\n"
          ],
          "name": "stdout"
        }
      ]
    },
    {
      "cell_type": "markdown",
      "metadata": {
        "id": "Baauzxob28Rs"
      },
      "source": [
        "***Install word2number library***"
      ]
    },
    {
      "cell_type": "code",
      "metadata": {
        "colab": {
          "base_uri": "https://localhost:8080/"
        },
        "id": "bxIYT4IGDDjN",
        "outputId": "432c9bc2-391b-413b-d59a-ea8e38001b80"
      },
      "source": [
        "!pip install word2number"
      ],
      "execution_count": null,
      "outputs": [
        {
          "output_type": "stream",
          "text": [
            "Collecting word2number\n",
            "  Downloading https://files.pythonhosted.org/packages/4a/29/a31940c848521f0725f0df6b25dca8917f13a2025b0e8fcbe5d0457e45e6/word2number-1.1.zip\n",
            "Building wheels for collected packages: word2number\n",
            "  Building wheel for word2number (setup.py) ... \u001b[?25l\u001b[?25hdone\n",
            "  Created wheel for word2number: filename=word2number-1.1-cp36-none-any.whl size=5588 sha256=92d3d97e1cfd5af6ab8944bf8735d0c292b3e491bc30a08c847fd4df69f9ed0d\n",
            "  Stored in directory: /root/.cache/pip/wheels/46/2f/53/5f5c1d275492f2fce1cdab9a9bb12d49286dead829a4078e0e\n",
            "Successfully built word2number\n",
            "Installing collected packages: word2number\n",
            "Successfully installed word2number-1.1\n"
          ],
          "name": "stdout"
        }
      ]
    },
    {
      "cell_type": "markdown",
      "metadata": {
        "id": "p9xtUbpdgWND"
      },
      "source": [
        "***Convert Words into Number in Experience Field***"
      ]
    },
    {
      "cell_type": "code",
      "metadata": {
        "colab": {
          "base_uri": "https://localhost:8080/",
          "height": 297
        },
        "id": "PzQToToyDKNc",
        "outputId": "b3b8a8f2-997e-4d15-8eef-ffc2ee2578f2"
      },
      "source": [
        "from word2number import w2n\r\n",
        "df['Experience']=df['Experience'].apply(w2n.word_to_num)\r\n",
        "df"
      ],
      "execution_count": null,
      "outputs": [
        {
          "output_type": "execute_result",
          "data": {
            "text/html": [
              "<div>\n",
              "<style scoped>\n",
              "    .dataframe tbody tr th:only-of-type {\n",
              "        vertical-align: middle;\n",
              "    }\n",
              "\n",
              "    .dataframe tbody tr th {\n",
              "        vertical-align: top;\n",
              "    }\n",
              "\n",
              "    .dataframe thead th {\n",
              "        text-align: right;\n",
              "    }\n",
              "</style>\n",
              "<table border=\"1\" class=\"dataframe\">\n",
              "  <thead>\n",
              "    <tr style=\"text-align: right;\">\n",
              "      <th></th>\n",
              "      <th>Experience</th>\n",
              "      <th>Test</th>\n",
              "      <th>Interview</th>\n",
              "      <th>Salary</th>\n",
              "    </tr>\n",
              "  </thead>\n",
              "  <tbody>\n",
              "    <tr>\n",
              "      <th>0</th>\n",
              "      <td>0</td>\n",
              "      <td>8.0</td>\n",
              "      <td>9</td>\n",
              "      <td>50000</td>\n",
              "    </tr>\n",
              "    <tr>\n",
              "      <th>1</th>\n",
              "      <td>2</td>\n",
              "      <td>10.0</td>\n",
              "      <td>10</td>\n",
              "      <td>65000</td>\n",
              "    </tr>\n",
              "    <tr>\n",
              "      <th>2</th>\n",
              "      <td>0</td>\n",
              "      <td>8.0</td>\n",
              "      <td>6</td>\n",
              "      <td>45000</td>\n",
              "    </tr>\n",
              "    <tr>\n",
              "      <th>3</th>\n",
              "      <td>5</td>\n",
              "      <td>6.0</td>\n",
              "      <td>7</td>\n",
              "      <td>60000</td>\n",
              "    </tr>\n",
              "    <tr>\n",
              "      <th>4</th>\n",
              "      <td>7</td>\n",
              "      <td>9.0</td>\n",
              "      <td>6</td>\n",
              "      <td>70000</td>\n",
              "    </tr>\n",
              "    <tr>\n",
              "      <th>5</th>\n",
              "      <td>11</td>\n",
              "      <td>7.0</td>\n",
              "      <td>8</td>\n",
              "      <td>80000</td>\n",
              "    </tr>\n",
              "    <tr>\n",
              "      <th>6</th>\n",
              "      <td>10</td>\n",
              "      <td>0.0</td>\n",
              "      <td>7</td>\n",
              "      <td>72000</td>\n",
              "    </tr>\n",
              "    <tr>\n",
              "      <th>7</th>\n",
              "      <td>3</td>\n",
              "      <td>7.0</td>\n",
              "      <td>10</td>\n",
              "      <td>62000</td>\n",
              "    </tr>\n",
              "  </tbody>\n",
              "</table>\n",
              "</div>"
            ],
            "text/plain": [
              "   Experience  Test  Interview  Salary\n",
              "0           0   8.0          9   50000\n",
              "1           2  10.0         10   65000\n",
              "2           0   8.0          6   45000\n",
              "3           5   6.0          7   60000\n",
              "4           7   9.0          6   70000\n",
              "5          11   7.0          8   80000\n",
              "6          10   0.0          7   72000\n",
              "7           3   7.0         10   62000"
            ]
          },
          "metadata": {
            "tags": []
          },
          "execution_count": 10
        }
      ]
    },
    {
      "cell_type": "markdown",
      "metadata": {
        "id": "LjuJr_0C4Fcf"
      },
      "source": [
        "***Convert Word to Number using word2number***"
      ]
    },
    {
      "cell_type": "code",
      "metadata": {
        "colab": {
          "base_uri": "https://localhost:8080/"
        },
        "id": "8TIshZl2DhMl",
        "outputId": "14c8c2f4-a1f6-435d-d8a6-422f998fd225"
      },
      "source": [
        "from sklearn import linear_model\r\n",
        "result=linear_model.LinearRegression()\r\n",
        "result.fit(df[['Experience','Test','Interview']],df.Salary)"
      ],
      "execution_count": null,
      "outputs": [
        {
          "output_type": "execute_result",
          "data": {
            "text/plain": [
              "LinearRegression(copy_X=True, fit_intercept=True, n_jobs=None, normalize=False)"
            ]
          },
          "metadata": {
            "tags": []
          },
          "execution_count": 11
        }
      ]
    },
    {
      "cell_type": "markdown",
      "metadata": {
        "id": "EOfXr_hziL3a"
      },
      "source": [
        "***Find Coefficient***"
      ]
    },
    {
      "cell_type": "code",
      "metadata": {
        "colab": {
          "base_uri": "https://localhost:8080/"
        },
        "id": "7HwyEoKvMBLu",
        "outputId": "6dff1511-5bbc-457b-f713-c0c8c78360cf"
      },
      "source": [
        "result.coef_"
      ],
      "execution_count": null,
      "outputs": [
        {
          "output_type": "execute_result",
          "data": {
            "text/plain": [
              "array([3077.8642085 ,  999.7856246 , 2118.48834717])"
            ]
          },
          "metadata": {
            "tags": []
          },
          "execution_count": 12
        }
      ]
    },
    {
      "cell_type": "markdown",
      "metadata": {
        "id": "wzujWMAliScC"
      },
      "source": [
        "***Find Intercept***"
      ]
    },
    {
      "cell_type": "code",
      "metadata": {
        "colab": {
          "base_uri": "https://localhost:8080/"
        },
        "id": "j6xVDObtMD0t",
        "outputId": "3edfd254-68e1-4265-ace3-5d15609c59db"
      },
      "source": [
        "result.intercept_"
      ],
      "execution_count": null,
      "outputs": [
        {
          "output_type": "execute_result",
          "data": {
            "text/plain": [
              "24823.523106605804"
            ]
          },
          "metadata": {
            "tags": []
          },
          "execution_count": 13
        }
      ]
    },
    {
      "cell_type": "markdown",
      "metadata": {
        "id": "eatrXFnAikTb"
      },
      "source": [
        "***take an input such as 6,7 and 8***"
      ]
    },
    {
      "cell_type": "code",
      "metadata": {
        "colab": {
          "base_uri": "https://localhost:8080/"
        },
        "id": "P9vjGz76MGv_",
        "outputId": "53ac2201-73ad-451f-c578-8edf62ff63cb"
      },
      "source": [
        "result.predict([[6,7,8]])"
      ],
      "execution_count": null,
      "outputs": [
        {
          "output_type": "execute_result",
          "data": {
            "text/plain": [
              "array([67237.11450709])"
            ]
          },
          "metadata": {
            "tags": []
          },
          "execution_count": 15
        }
      ]
    },
    {
      "cell_type": "markdown",
      "metadata": {
        "id": "7KrK0NtN400T"
      },
      "source": [
        "***Y= m1 * (Experience) + m2 * (Test) + m3 * (Interview) + c where m1,m2,m3 are coefficient and Experience,Test and Interview are independent variables(features)***"
      ]
    },
    {
      "cell_type": "markdown",
      "metadata": {
        "id": "KpKVS7EwjAx-"
      },
      "source": [
        "***Predict the output by puting Experience =6,Test=7 and Interview=8***"
      ]
    },
    {
      "cell_type": "code",
      "metadata": {
        "colab": {
          "base_uri": "https://localhost:8080/"
        },
        "id": "yyFcE-UXMd1K",
        "outputId": "41382584-2be7-4cf6-9bef-ef94a293adf7"
      },
      "source": [
        "3077.8642085*6+ 999.7856246*7+2118.48834717*8+24823.523106605804"
      ],
      "execution_count": null,
      "outputs": [
        {
          "output_type": "execute_result",
          "data": {
            "text/plain": [
              "67237.11450716581"
            ]
          },
          "metadata": {
            "tags": []
          },
          "execution_count": 16
        }
      ]
    },
    {
      "cell_type": "markdown",
      "metadata": {
        "id": "t3eKy3Brkvab"
      },
      "source": [
        "***Thank you Goeduhub Techonologies***"
      ]
    }
  ]
}